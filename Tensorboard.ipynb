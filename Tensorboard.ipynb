{
 "cells": [
  {
   "cell_type": "markdown",
   "id": "e3b70e59-9516-4b54-aa19-8c8bca6889c0",
   "metadata": {},
   "source": [
    "A simple extra file to run a tensorboard in another notbook which is easier to shutdown or to keep running.\n",
    "When not running locally but on a server instead, check if either the server can be exposed to the network (like the dws servers) or use a tunnel via ssh:\n",
    "\n",
    "remote: `$tensorboard --logdir ./lightning_logs/ --port 8998 --bind_all`  \n",
    "local:`> ssh -L localhost:8998:localhost:8998 ...`\n",
    "Note you can add `-N and -f` for running it in the background."
   ]
  },
  {
   "cell_type": "code",
   "execution_count": 1,
   "id": "eaad3cad-e197-4aa6-8801-2e5fc3cda9af",
   "metadata": {
    "tags": []
   },
   "outputs": [
    {
     "data": {
      "text/plain": [
       "['CropOrWeed2_1280px_yolov7-tinymax_epochs=20',\n",
       " 'dev_CropOrWeed2_yolov7-tinymax_epochs=20']"
      ]
     },
     "execution_count": 1,
     "metadata": {},
     "output_type": "execute_result"
    }
   ],
   "source": [
    "PATH_TENSORBOARD = './lightning_logs'\n",
    "\n",
    "import os\n",
    "os.listdir(PATH_TENSORBOARD)"
   ]
  },
  {
   "cell_type": "code",
   "execution_count": 2,
   "id": "2bde7db4-3e86-42cb-95b0-473a2ebcec9a",
   "metadata": {
    "tags": []
   },
   "outputs": [],
   "source": [
    "%load_ext tensorboard"
   ]
  },
  {
   "cell_type": "code",
   "execution_count": 3,
   "id": "0ef40813-ff7d-48ca-a066-6abd4fd5c0a2",
   "metadata": {
    "tags": []
   },
   "outputs": [
    {
     "data": {
      "text/html": [
       "\n",
       "      <iframe id=\"tensorboard-frame-3cde5a4f66b59447\" width=\"100%\" height=\"800\" frameborder=\"0\">\n",
       "      </iframe>\n",
       "      <script>\n",
       "        (function() {\n",
       "          const frame = document.getElementById(\"tensorboard-frame-3cde5a4f66b59447\");\n",
       "          const url = new URL(\"/\", window.location);\n",
       "          const port = 8998;\n",
       "          if (port) {\n",
       "            url.port = port;\n",
       "          }\n",
       "          frame.src = url;\n",
       "        })();\n",
       "      </script>\n",
       "    "
      ],
      "text/plain": [
       "<IPython.core.display.HTML object>"
      ]
     },
     "metadata": {},
     "output_type": "display_data"
    }
   ],
   "source": [
    "%tensorboard --logdir {PATH_TENSORBOARD} --bind_all --port=8998 "
   ]
  },
  {
   "cell_type": "code",
   "execution_count": 4,
   "id": "dea0e5ea-0b46-4413-98b2-3f1c72db9630",
   "metadata": {},
   "outputs": [
    {
     "name": "stdout",
     "output_type": "stream",
     "text": [
      "Known TensorBoard instances:\n",
      "  - port 8998: logdir ./lightning_logs (started 0:00:01 ago; pid 607880)\n"
     ]
    }
   ],
   "source": [
    "from tensorboard import notebook\n",
    "notebook.list() # View open TensorBoard instances\n"
   ]
  },
  {
   "cell_type": "code",
   "execution_count": 5,
   "id": "202398b8-52db-4e73-a424-c6dd04970e19",
   "metadata": {
    "tags": []
   },
   "outputs": [
    {
     "name": "stdout",
     "output_type": "stream",
     "text": [
      "Selecting TensorBoard with logdir ./lightning_logs (started 0:00:01 ago; port 8998, pid 607880).\n"
     ]
    },
    {
     "data": {
      "text/html": [
       "\n",
       "      <iframe id=\"tensorboard-frame-f9def36404e5add8\" width=\"100%\" height=\"1000\" frameborder=\"0\">\n",
       "      </iframe>\n",
       "      <script>\n",
       "        (function() {\n",
       "          const frame = document.getElementById(\"tensorboard-frame-f9def36404e5add8\");\n",
       "          const url = new URL(\"/\", window.location);\n",
       "          const port = 8998;\n",
       "          if (port) {\n",
       "            url.port = port;\n",
       "          }\n",
       "          frame.src = url;\n",
       "        })();\n",
       "      </script>\n",
       "    "
      ],
      "text/plain": [
       "<IPython.core.display.HTML object>"
      ]
     },
     "metadata": {},
     "output_type": "display_data"
    }
   ],
   "source": [
    "notebook.display(port=8998, height=512)\n"
   ]
  },
  {
   "cell_type": "code",
   "execution_count": null,
   "id": "964a40a4-18d2-4d60-b93a-bbb1283c6660",
   "metadata": {},
   "outputs": [],
   "source": []
  }
 ],
 "metadata": {
  "kernelspec": {
   "display_name": "Python 3 (ipykernel)",
   "language": "python",
   "name": "python3"
  },
  "language_info": {
   "codemirror_mode": {
    "name": "ipython",
    "version": 3
   },
   "file_extension": ".py",
   "mimetype": "text/x-python",
   "name": "python",
   "nbconvert_exporter": "python",
   "pygments_lexer": "ipython3",
   "version": "3.9.7"
  }
 },
 "nbformat": 4,
 "nbformat_minor": 5
}
